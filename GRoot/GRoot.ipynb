{
 "cells": [
  {
   "cell_type": "code",
   "execution_count": 1,
   "id": "e7bdb378-a4c2-4972-b280-efebdb0dc800",
   "metadata": {},
   "outputs": [],
   "source": [
    "import numpy as np\n",
    "import pandas as pd\n",
    "import matplotlib.pyplot as plt"
   ]
  },
  {
   "cell_type": "code",
   "execution_count": 5,
   "id": "c759f082-5407-4e2f-9a45-fc1f4004407f",
   "metadata": {},
   "outputs": [
    {
     "data": {
      "text/html": [
       "<div>\n",
       "<style scoped>\n",
       "    .dataframe tbody tr th:only-of-type {\n",
       "        vertical-align: middle;\n",
       "    }\n",
       "\n",
       "    .dataframe tbody tr th {\n",
       "        vertical-align: top;\n",
       "    }\n",
       "\n",
       "    .dataframe thead th {\n",
       "        text-align: right;\n",
       "    }\n",
       "</style>\n",
       "<table border=\"1\" class=\"dataframe\">\n",
       "  <thead>\n",
       "    <tr style=\"text-align: right;\">\n",
       "      <th></th>\n",
       "      <th>GRooTID</th>\n",
       "      <th>source</th>\n",
       "      <th>versionSource</th>\n",
       "      <th>originalID</th>\n",
       "      <th>referencesAbbreviated</th>\n",
       "      <th>references</th>\n",
       "      <th>referencesDataset</th>\n",
       "      <th>referencesAdditional</th>\n",
       "      <th>family</th>\n",
       "      <th>genus</th>\n",
       "      <th>...</th>\n",
       "      <th>belowgroundEntitiesOrder</th>\n",
       "      <th>belowgroundEntitiesOrderMin</th>\n",
       "      <th>belowgroundEntitiesOrderMax</th>\n",
       "      <th>belowgroundEntitiesFunctional</th>\n",
       "      <th>belowgroundEntitiesDiameterMin</th>\n",
       "      <th>belowgroundEntitiesDiameterMax</th>\n",
       "      <th>traitName</th>\n",
       "      <th>traitValue</th>\n",
       "      <th>errorRiskEntries</th>\n",
       "      <th>errorRisk</th>\n",
       "    </tr>\n",
       "  </thead>\n",
       "  <tbody>\n",
       "    <tr>\n",
       "      <th>0</th>\n",
       "      <td>1</td>\n",
       "      <td>FRED</td>\n",
       "      <td>2.0</td>\n",
       "      <td>33116.0</td>\n",
       "      <td>Aaltonen 1920</td>\n",
       "      <td>Aaltonen VT. 1920. Abreiten Der Forstwissensch...</td>\n",
       "      <td>Fan Y, Miguez-Macho G, Jobbagy EG, Jackson RB,...</td>\n",
       "      <td>NaN</td>\n",
       "      <td>NaN</td>\n",
       "      <td>Betula</td>\n",
       "      <td>...</td>\n",
       "      <td>NaN</td>\n",
       "      <td>NaN</td>\n",
       "      <td>NaN</td>\n",
       "      <td>NaN</td>\n",
       "      <td>NaN</td>\n",
       "      <td>NaN</td>\n",
       "      <td>Rooting_depth</td>\n",
       "      <td>0.85</td>\n",
       "      <td>NaN</td>\n",
       "      <td>NaN</td>\n",
       "    </tr>\n",
       "    <tr>\n",
       "      <th>1</th>\n",
       "      <td>2</td>\n",
       "      <td>FRED</td>\n",
       "      <td>2.0</td>\n",
       "      <td>33115.0</td>\n",
       "      <td>Aaltonen 1920</td>\n",
       "      <td>Aaltonen VT. 1920. Abreiten Der Forstwissensch...</td>\n",
       "      <td>Fan Y, Miguez-Macho G, Jobbagy EG, Jackson RB,...</td>\n",
       "      <td>NaN</td>\n",
       "      <td>NaN</td>\n",
       "      <td>Picea</td>\n",
       "      <td>...</td>\n",
       "      <td>NaN</td>\n",
       "      <td>NaN</td>\n",
       "      <td>NaN</td>\n",
       "      <td>NaN</td>\n",
       "      <td>NaN</td>\n",
       "      <td>NaN</td>\n",
       "      <td>Rooting_depth</td>\n",
       "      <td>0.90</td>\n",
       "      <td>NaN</td>\n",
       "      <td>NaN</td>\n",
       "    </tr>\n",
       "    <tr>\n",
       "      <th>2</th>\n",
       "      <td>3</td>\n",
       "      <td>FRED</td>\n",
       "      <td>2.0</td>\n",
       "      <td>33113.0</td>\n",
       "      <td>Aaltonen 1920</td>\n",
       "      <td>Aaltonen VT. 1920. Abreiten Der Forstwissensch...</td>\n",
       "      <td>Fan Y, Miguez-Macho G, Jobbagy EG, Jackson RB,...</td>\n",
       "      <td>NaN</td>\n",
       "      <td>NaN</td>\n",
       "      <td>Pinus</td>\n",
       "      <td>...</td>\n",
       "      <td>NaN</td>\n",
       "      <td>NaN</td>\n",
       "      <td>NaN</td>\n",
       "      <td>NaN</td>\n",
       "      <td>NaN</td>\n",
       "      <td>NaN</td>\n",
       "      <td>Rooting_depth</td>\n",
       "      <td>1.00</td>\n",
       "      <td>NaN</td>\n",
       "      <td>NaN</td>\n",
       "    </tr>\n",
       "    <tr>\n",
       "      <th>3</th>\n",
       "      <td>4</td>\n",
       "      <td>FRED</td>\n",
       "      <td>2.0</td>\n",
       "      <td>33112.0</td>\n",
       "      <td>Aaltonen 1920</td>\n",
       "      <td>Aaltonen VT. 1920. Abreiten Der Forstwissensch...</td>\n",
       "      <td>Fan Y, Miguez-Macho G, Jobbagy EG, Jackson RB,...</td>\n",
       "      <td>NaN</td>\n",
       "      <td>NaN</td>\n",
       "      <td>Pinus</td>\n",
       "      <td>...</td>\n",
       "      <td>NaN</td>\n",
       "      <td>NaN</td>\n",
       "      <td>NaN</td>\n",
       "      <td>NaN</td>\n",
       "      <td>NaN</td>\n",
       "      <td>NaN</td>\n",
       "      <td>Rooting_depth</td>\n",
       "      <td>0.98</td>\n",
       "      <td>NaN</td>\n",
       "      <td>NaN</td>\n",
       "    </tr>\n",
       "    <tr>\n",
       "      <th>4</th>\n",
       "      <td>5</td>\n",
       "      <td>FRED</td>\n",
       "      <td>2.0</td>\n",
       "      <td>33114.0</td>\n",
       "      <td>Aaltonen 1920</td>\n",
       "      <td>Aaltonen VT. 1920. Abreiten Der Forstwissensch...</td>\n",
       "      <td>Fan Y, Miguez-Macho G, Jobbagy EG, Jackson RB,...</td>\n",
       "      <td>NaN</td>\n",
       "      <td>NaN</td>\n",
       "      <td>Pinus</td>\n",
       "      <td>...</td>\n",
       "      <td>NaN</td>\n",
       "      <td>NaN</td>\n",
       "      <td>NaN</td>\n",
       "      <td>NaN</td>\n",
       "      <td>NaN</td>\n",
       "      <td>NaN</td>\n",
       "      <td>Rooting_depth</td>\n",
       "      <td>0.56</td>\n",
       "      <td>NaN</td>\n",
       "      <td>NaN</td>\n",
       "    </tr>\n",
       "  </tbody>\n",
       "</table>\n",
       "<p>5 rows × 73 columns</p>\n",
       "</div>"
      ],
      "text/plain": [
       "   GRooTID source  versionSource  originalID referencesAbbreviated  \\\n",
       "0        1   FRED            2.0     33116.0         Aaltonen 1920   \n",
       "1        2   FRED            2.0     33115.0         Aaltonen 1920   \n",
       "2        3   FRED            2.0     33113.0         Aaltonen 1920   \n",
       "3        4   FRED            2.0     33112.0         Aaltonen 1920   \n",
       "4        5   FRED            2.0     33114.0         Aaltonen 1920   \n",
       "\n",
       "                                          references  \\\n",
       "0  Aaltonen VT. 1920. Abreiten Der Forstwissensch...   \n",
       "1  Aaltonen VT. 1920. Abreiten Der Forstwissensch...   \n",
       "2  Aaltonen VT. 1920. Abreiten Der Forstwissensch...   \n",
       "3  Aaltonen VT. 1920. Abreiten Der Forstwissensch...   \n",
       "4  Aaltonen VT. 1920. Abreiten Der Forstwissensch...   \n",
       "\n",
       "                                   referencesDataset referencesAdditional  \\\n",
       "0  Fan Y, Miguez-Macho G, Jobbagy EG, Jackson RB,...                  NaN   \n",
       "1  Fan Y, Miguez-Macho G, Jobbagy EG, Jackson RB,...                  NaN   \n",
       "2  Fan Y, Miguez-Macho G, Jobbagy EG, Jackson RB,...                  NaN   \n",
       "3  Fan Y, Miguez-Macho G, Jobbagy EG, Jackson RB,...                  NaN   \n",
       "4  Fan Y, Miguez-Macho G, Jobbagy EG, Jackson RB,...                  NaN   \n",
       "\n",
       "  family   genus  ... belowgroundEntitiesOrder belowgroundEntitiesOrderMin  \\\n",
       "0    NaN  Betula  ...                      NaN                         NaN   \n",
       "1    NaN   Picea  ...                      NaN                         NaN   \n",
       "2    NaN   Pinus  ...                      NaN                         NaN   \n",
       "3    NaN   Pinus  ...                      NaN                         NaN   \n",
       "4    NaN   Pinus  ...                      NaN                         NaN   \n",
       "\n",
       "  belowgroundEntitiesOrderMax belowgroundEntitiesFunctional  \\\n",
       "0                         NaN                           NaN   \n",
       "1                         NaN                           NaN   \n",
       "2                         NaN                           NaN   \n",
       "3                         NaN                           NaN   \n",
       "4                         NaN                           NaN   \n",
       "\n",
       "  belowgroundEntitiesDiameterMin belowgroundEntitiesDiameterMax  \\\n",
       "0                            NaN                            NaN   \n",
       "1                            NaN                            NaN   \n",
       "2                            NaN                            NaN   \n",
       "3                            NaN                            NaN   \n",
       "4                            NaN                            NaN   \n",
       "\n",
       "       traitName traitValue errorRiskEntries errorRisk  \n",
       "0  Rooting_depth       0.85              NaN       NaN  \n",
       "1  Rooting_depth       0.90              NaN       NaN  \n",
       "2  Rooting_depth       1.00              NaN       NaN  \n",
       "3  Rooting_depth       0.98              NaN       NaN  \n",
       "4  Rooting_depth       0.56              NaN       NaN  \n",
       "\n",
       "[5 rows x 73 columns]"
      ]
     },
     "execution_count": 5,
     "metadata": {},
     "output_type": "execute_result"
    }
   ],
   "source": [
    "groot = pd.read_csv(r\"./GRooTFullVersion.csv\", encoding=\"latin\", low_memory=False)\n",
    "groot.head()"
   ]
  },
  {
   "cell_type": "code",
   "execution_count": 7,
   "id": "e6bceb2e-4b9f-4c6f-8d51-f84009a19a46",
   "metadata": {},
   "outputs": [
    {
     "data": {
      "text/plain": [
       "(114222, 73)"
      ]
     },
     "execution_count": 7,
     "metadata": {},
     "output_type": "execute_result"
    }
   ],
   "source": [
    "groot.shape"
   ]
  },
  {
   "cell_type": "code",
   "execution_count": 10,
   "id": "04a8218b-3dda-47a2-a930-4e60f4bc7831",
   "metadata": {},
   "outputs": [
    {
     "data": {
      "text/plain": [
       "array(['Rooting_depth', 'Root_production', 'Root_turnover_rate',\n",
       "       'Root_C_concentration', 'Root_C_N_ratio',\n",
       "       'Root_lignin_concentration', 'Root_N_concentration',\n",
       "       'Root_total_structural_carbohydrate_concentration',\n",
       "       'Root_Ca_concentration', 'Root_K_concentration',\n",
       "       'Root_Mg_concentration', 'Root_P_concentration',\n",
       "       'Root_length_density_volume', 'Specific_root_respiration',\n",
       "       'Root_mass_density', 'Root_Mn_concentration',\n",
       "       'Root_mycorrhizal colonization', 'Root_mass_fraction',\n",
       "       'Root_litter_mass_loss_rate', 'Coarse_root_fine_root_mass_ratio',\n",
       "       'Fine_root_mass_leaf_mass_ratio', 'Mean_Root_diameter',\n",
       "       'Root_tissue_density', 'Specific_root_area',\n",
       "       'Specific_root_length', 'Root_stele_diameter',\n",
       "       'Root_stele_fraction', 'Root_branching_density',\n",
       "       'Root_lifespan_mean', 'Root_lifespan_median',\n",
       "       'Root_vessel_diameter', 'Root_branching_ratio',\n",
       "       'Root_dry_matter_content', 'Root_cortex_thickness',\n",
       "       'Net_nitrogen_uptake_rate', 'Root_xylem_vessel_number',\n",
       "       'Root_N_P_ratio', 'Lateral_spread'], dtype=object)"
      ]
     },
     "execution_count": 10,
     "metadata": {},
     "output_type": "execute_result"
    }
   ],
   "source": [
    "groot.loc[:, \"traitName\"].unique()"
   ]
  },
  {
   "cell_type": "code",
   "execution_count": 11,
   "id": "d566ada0-0f08-4c1b-87b9-f253402001b2",
   "metadata": {},
   "outputs": [
    {
     "data": {
      "text/plain": [
       "(array(['Coarse_root_fine_root_mass_ratio',\n",
       "        'Fine_root_mass_leaf_mass_ratio', 'Lateral_spread',\n",
       "        'Mean_Root_diameter', 'Net_nitrogen_uptake_rate', 'Root_C_N_ratio',\n",
       "        'Root_C_concentration', 'Root_Ca_concentration',\n",
       "        'Root_K_concentration', 'Root_Mg_concentration',\n",
       "        'Root_Mn_concentration', 'Root_N_P_ratio', 'Root_N_concentration',\n",
       "        'Root_P_concentration', 'Root_branching_density',\n",
       "        'Root_branching_ratio', 'Root_cortex_thickness',\n",
       "        'Root_dry_matter_content', 'Root_length_density_volume',\n",
       "        'Root_lifespan_mean', 'Root_lifespan_median',\n",
       "        'Root_lignin_concentration', 'Root_litter_mass_loss_rate',\n",
       "        'Root_mass_density', 'Root_mass_fraction',\n",
       "        'Root_mycorrhizal colonization', 'Root_production',\n",
       "        'Root_stele_diameter', 'Root_stele_fraction',\n",
       "        'Root_tissue_density',\n",
       "        'Root_total_structural_carbohydrate_concentration',\n",
       "        'Root_turnover_rate', 'Root_vessel_diameter',\n",
       "        'Root_xylem_vessel_number', 'Rooting_depth', 'Specific_root_area',\n",
       "        'Specific_root_length', 'Specific_root_respiration'], dtype=object),\n",
       " array([ 1719,  1818,  1422, 10719,   239,  4493,  6124,  1521,  1460,\n",
       "         1408,   251,   179, 10212,  2742,  2130,   474,   384,  4097,\n",
       "         1794,   244,   231,   837,   621,  1815, 15524,  6819,   734,\n",
       "          982,  1080, 10521,   465,   523,   165,   129,  2669,  2693,\n",
       "        12364,  2620]))"
      ]
     },
     "execution_count": 11,
     "metadata": {},
     "output_type": "execute_result"
    }
   ],
   "source": [
    "np.unique(groot.loc[:, \"traitName\"], return_counts=True)"
   ]
  },
  {
   "cell_type": "code",
   "execution_count": 15,
   "id": "cbbfa98d-2710-4307-b1f2-9cd060d71bca",
   "metadata": {},
   "outputs": [
    {
     "data": {
      "text/plain": [
       "np.float64(0.7910822783701914)"
      ]
     },
     "execution_count": 15,
     "metadata": {},
     "output_type": "execute_result"
    }
   ],
   "source": [
    "groot.loc[:, \"family\"].isna().mean() # oopsies"
   ]
  },
  {
   "cell_type": "code",
   "execution_count": null,
   "id": "3cccda70-e336-496b-9601-20c51ffb3de7",
   "metadata": {},
   "outputs": [],
   "source": [
    "\n"
   ]
  }
 ],
 "metadata": {
  "kernelspec": {
   "display_name": "Python 3 (ipykernel)",
   "language": "python",
   "name": "python3"
  },
  "language_info": {
   "codemirror_mode": {
    "name": "ipython",
    "version": 3
   },
   "file_extension": ".py",
   "mimetype": "text/x-python",
   "name": "python",
   "nbconvert_exporter": "python",
   "pygments_lexer": "ipython3",
   "version": "3.13.1"
  }
 },
 "nbformat": 4,
 "nbformat_minor": 5
}
