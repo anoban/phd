{
 "cells": [
  {
   "cell_type": "code",
   "execution_count": 1,
   "id": "e7bdb378-a4c2-4972-b280-efebdb0dc800",
   "metadata": {},
   "outputs": [],
   "source": [
    "import numpy as np\n",
    "import pandas as pd\n",
    "import matplotlib.pyplot as plt\n",
    "from collections import Counter\n",
    "\n",
    "pd.options.display.max_rows = 100"
   ]
  },
  {
   "cell_type": "code",
   "execution_count": 2,
   "id": "c759f082-5407-4e2f-9a45-fc1f4004407f",
   "metadata": {},
   "outputs": [
    {
     "data": {
      "text/html": [
       "<div>\n",
       "<style scoped>\n",
       "    .dataframe tbody tr th:only-of-type {\n",
       "        vertical-align: middle;\n",
       "    }\n",
       "\n",
       "    .dataframe tbody tr th {\n",
       "        vertical-align: top;\n",
       "    }\n",
       "\n",
       "    .dataframe thead th {\n",
       "        text-align: right;\n",
       "    }\n",
       "</style>\n",
       "<table border=\"1\" class=\"dataframe\">\n",
       "  <thead>\n",
       "    <tr style=\"text-align: right;\">\n",
       "      <th></th>\n",
       "      <th>GRooTID</th>\n",
       "      <th>source</th>\n",
       "      <th>versionSource</th>\n",
       "      <th>originalID</th>\n",
       "      <th>referencesAbbreviated</th>\n",
       "      <th>references</th>\n",
       "      <th>referencesDataset</th>\n",
       "      <th>referencesAdditional</th>\n",
       "      <th>family</th>\n",
       "      <th>genus</th>\n",
       "      <th>...</th>\n",
       "      <th>belowgroundEntitiesOrder</th>\n",
       "      <th>belowgroundEntitiesOrderMin</th>\n",
       "      <th>belowgroundEntitiesOrderMax</th>\n",
       "      <th>belowgroundEntitiesFunctional</th>\n",
       "      <th>belowgroundEntitiesDiameterMin</th>\n",
       "      <th>belowgroundEntitiesDiameterMax</th>\n",
       "      <th>traitName</th>\n",
       "      <th>traitValue</th>\n",
       "      <th>errorRiskEntries</th>\n",
       "      <th>errorRisk</th>\n",
       "    </tr>\n",
       "  </thead>\n",
       "  <tbody>\n",
       "    <tr>\n",
       "      <th>0</th>\n",
       "      <td>1</td>\n",
       "      <td>FRED</td>\n",
       "      <td>2.0</td>\n",
       "      <td>33116.0</td>\n",
       "      <td>Aaltonen 1920</td>\n",
       "      <td>Aaltonen VT. 1920. Abreiten Der Forstwissensch...</td>\n",
       "      <td>Fan Y, Miguez-Macho G, Jobbagy EG, Jackson RB,...</td>\n",
       "      <td>NaN</td>\n",
       "      <td>NaN</td>\n",
       "      <td>Betula</td>\n",
       "      <td>...</td>\n",
       "      <td>NaN</td>\n",
       "      <td>NaN</td>\n",
       "      <td>NaN</td>\n",
       "      <td>NaN</td>\n",
       "      <td>NaN</td>\n",
       "      <td>NaN</td>\n",
       "      <td>Rooting_depth</td>\n",
       "      <td>0.85</td>\n",
       "      <td>NaN</td>\n",
       "      <td>NaN</td>\n",
       "    </tr>\n",
       "    <tr>\n",
       "      <th>1</th>\n",
       "      <td>2</td>\n",
       "      <td>FRED</td>\n",
       "      <td>2.0</td>\n",
       "      <td>33115.0</td>\n",
       "      <td>Aaltonen 1920</td>\n",
       "      <td>Aaltonen VT. 1920. Abreiten Der Forstwissensch...</td>\n",
       "      <td>Fan Y, Miguez-Macho G, Jobbagy EG, Jackson RB,...</td>\n",
       "      <td>NaN</td>\n",
       "      <td>NaN</td>\n",
       "      <td>Picea</td>\n",
       "      <td>...</td>\n",
       "      <td>NaN</td>\n",
       "      <td>NaN</td>\n",
       "      <td>NaN</td>\n",
       "      <td>NaN</td>\n",
       "      <td>NaN</td>\n",
       "      <td>NaN</td>\n",
       "      <td>Rooting_depth</td>\n",
       "      <td>0.90</td>\n",
       "      <td>NaN</td>\n",
       "      <td>NaN</td>\n",
       "    </tr>\n",
       "    <tr>\n",
       "      <th>2</th>\n",
       "      <td>3</td>\n",
       "      <td>FRED</td>\n",
       "      <td>2.0</td>\n",
       "      <td>33113.0</td>\n",
       "      <td>Aaltonen 1920</td>\n",
       "      <td>Aaltonen VT. 1920. Abreiten Der Forstwissensch...</td>\n",
       "      <td>Fan Y, Miguez-Macho G, Jobbagy EG, Jackson RB,...</td>\n",
       "      <td>NaN</td>\n",
       "      <td>NaN</td>\n",
       "      <td>Pinus</td>\n",
       "      <td>...</td>\n",
       "      <td>NaN</td>\n",
       "      <td>NaN</td>\n",
       "      <td>NaN</td>\n",
       "      <td>NaN</td>\n",
       "      <td>NaN</td>\n",
       "      <td>NaN</td>\n",
       "      <td>Rooting_depth</td>\n",
       "      <td>1.00</td>\n",
       "      <td>NaN</td>\n",
       "      <td>NaN</td>\n",
       "    </tr>\n",
       "    <tr>\n",
       "      <th>3</th>\n",
       "      <td>4</td>\n",
       "      <td>FRED</td>\n",
       "      <td>2.0</td>\n",
       "      <td>33112.0</td>\n",
       "      <td>Aaltonen 1920</td>\n",
       "      <td>Aaltonen VT. 1920. Abreiten Der Forstwissensch...</td>\n",
       "      <td>Fan Y, Miguez-Macho G, Jobbagy EG, Jackson RB,...</td>\n",
       "      <td>NaN</td>\n",
       "      <td>NaN</td>\n",
       "      <td>Pinus</td>\n",
       "      <td>...</td>\n",
       "      <td>NaN</td>\n",
       "      <td>NaN</td>\n",
       "      <td>NaN</td>\n",
       "      <td>NaN</td>\n",
       "      <td>NaN</td>\n",
       "      <td>NaN</td>\n",
       "      <td>Rooting_depth</td>\n",
       "      <td>0.98</td>\n",
       "      <td>NaN</td>\n",
       "      <td>NaN</td>\n",
       "    </tr>\n",
       "    <tr>\n",
       "      <th>4</th>\n",
       "      <td>5</td>\n",
       "      <td>FRED</td>\n",
       "      <td>2.0</td>\n",
       "      <td>33114.0</td>\n",
       "      <td>Aaltonen 1920</td>\n",
       "      <td>Aaltonen VT. 1920. Abreiten Der Forstwissensch...</td>\n",
       "      <td>Fan Y, Miguez-Macho G, Jobbagy EG, Jackson RB,...</td>\n",
       "      <td>NaN</td>\n",
       "      <td>NaN</td>\n",
       "      <td>Pinus</td>\n",
       "      <td>...</td>\n",
       "      <td>NaN</td>\n",
       "      <td>NaN</td>\n",
       "      <td>NaN</td>\n",
       "      <td>NaN</td>\n",
       "      <td>NaN</td>\n",
       "      <td>NaN</td>\n",
       "      <td>Rooting_depth</td>\n",
       "      <td>0.56</td>\n",
       "      <td>NaN</td>\n",
       "      <td>NaN</td>\n",
       "    </tr>\n",
       "  </tbody>\n",
       "</table>\n",
       "<p>5 rows × 73 columns</p>\n",
       "</div>"
      ],
      "text/plain": [
       "   GRooTID source  versionSource  originalID referencesAbbreviated  \\\n",
       "0        1   FRED            2.0     33116.0         Aaltonen 1920   \n",
       "1        2   FRED            2.0     33115.0         Aaltonen 1920   \n",
       "2        3   FRED            2.0     33113.0         Aaltonen 1920   \n",
       "3        4   FRED            2.0     33112.0         Aaltonen 1920   \n",
       "4        5   FRED            2.0     33114.0         Aaltonen 1920   \n",
       "\n",
       "                                          references  \\\n",
       "0  Aaltonen VT. 1920. Abreiten Der Forstwissensch...   \n",
       "1  Aaltonen VT. 1920. Abreiten Der Forstwissensch...   \n",
       "2  Aaltonen VT. 1920. Abreiten Der Forstwissensch...   \n",
       "3  Aaltonen VT. 1920. Abreiten Der Forstwissensch...   \n",
       "4  Aaltonen VT. 1920. Abreiten Der Forstwissensch...   \n",
       "\n",
       "                                   referencesDataset referencesAdditional  \\\n",
       "0  Fan Y, Miguez-Macho G, Jobbagy EG, Jackson RB,...                  NaN   \n",
       "1  Fan Y, Miguez-Macho G, Jobbagy EG, Jackson RB,...                  NaN   \n",
       "2  Fan Y, Miguez-Macho G, Jobbagy EG, Jackson RB,...                  NaN   \n",
       "3  Fan Y, Miguez-Macho G, Jobbagy EG, Jackson RB,...                  NaN   \n",
       "4  Fan Y, Miguez-Macho G, Jobbagy EG, Jackson RB,...                  NaN   \n",
       "\n",
       "  family   genus  ... belowgroundEntitiesOrder belowgroundEntitiesOrderMin  \\\n",
       "0    NaN  Betula  ...                      NaN                         NaN   \n",
       "1    NaN   Picea  ...                      NaN                         NaN   \n",
       "2    NaN   Pinus  ...                      NaN                         NaN   \n",
       "3    NaN   Pinus  ...                      NaN                         NaN   \n",
       "4    NaN   Pinus  ...                      NaN                         NaN   \n",
       "\n",
       "  belowgroundEntitiesOrderMax belowgroundEntitiesFunctional  \\\n",
       "0                         NaN                           NaN   \n",
       "1                         NaN                           NaN   \n",
       "2                         NaN                           NaN   \n",
       "3                         NaN                           NaN   \n",
       "4                         NaN                           NaN   \n",
       "\n",
       "  belowgroundEntitiesDiameterMin belowgroundEntitiesDiameterMax  \\\n",
       "0                            NaN                            NaN   \n",
       "1                            NaN                            NaN   \n",
       "2                            NaN                            NaN   \n",
       "3                            NaN                            NaN   \n",
       "4                            NaN                            NaN   \n",
       "\n",
       "       traitName traitValue errorRiskEntries errorRisk  \n",
       "0  Rooting_depth       0.85              NaN       NaN  \n",
       "1  Rooting_depth       0.90              NaN       NaN  \n",
       "2  Rooting_depth       1.00              NaN       NaN  \n",
       "3  Rooting_depth       0.98              NaN       NaN  \n",
       "4  Rooting_depth       0.56              NaN       NaN  \n",
       "\n",
       "[5 rows x 73 columns]"
      ]
     },
     "execution_count": 2,
     "metadata": {},
     "output_type": "execute_result"
    }
   ],
   "source": [
    "# https://github.com/GRooT-Database/GRooT-Data/blob/master/DataFiles/GRooTAggregateSpeciesVersion.zip\n",
    "# download and unzip the above .zip file for the .csv database\n",
    "groot = pd.read_csv(r\"./GRooTFullVersion.csv\", encoding=\"latin\", low_memory=False)\n",
    "groot.head()"
   ]
  },
  {
   "cell_type": "code",
   "execution_count": 3,
   "id": "e6bceb2e-4b9f-4c6f-8d51-f84009a19a46",
   "metadata": {},
   "outputs": [
    {
     "data": {
      "text/plain": [
       "(114222, 73)"
      ]
     },
     "execution_count": 3,
     "metadata": {},
     "output_type": "execute_result"
    }
   ],
   "source": [
    "# it's not that big though!!!!!\n",
    "groot.shape"
   ]
  },
  {
   "cell_type": "code",
   "execution_count": 4,
   "id": "645377e4-72fe-47c8-bce9-314086ef3359",
   "metadata": {},
   "outputs": [
    {
     "data": {
      "text/plain": [
       "Index(['GRooTID', 'source', 'versionSource', 'originalID',\n",
       "       'referencesAbbreviated', 'references', 'referencesDataset',\n",
       "       'referencesAdditional', 'family', 'genus', 'species', 'infraspecific',\n",
       "       'familyTNRS', 'genusTNRS', 'speciesTNRS', 'infraspecificTNRS',\n",
       "       'taxonomicStatus', 'taxonomicInformation', 'group', 'order',\n",
       "       'growthForm', 'photosyntheticPathway', 'woodiness',\n",
       "       'mycorrhizalAssociationType', 'mycorrhizalAssociationTypeFungalRoot',\n",
       "       'nitrogenFixationNodDB', 'abilityToGrownClonallyCloPla',\n",
       "       'budBearingOrganCloPla', 'vitality', 'measurementProvenance',\n",
       "       'measurementTreatments', 'measurementMethod', 'year', 'yearBegin',\n",
       "       'yearEnd', 'ageStand', 'agePlant', 'locationID', 'location',\n",
       "       'decimalLatitude', 'decimalLongitud', 'climaticInformation',\n",
       "       'biomesKoeppen', 'biomesKoeppenGroup', 'temperatureColdestMonth',\n",
       "       'temperatureWarmestMonth', 'meanAnnualTemperature',\n",
       "       'meanAnnualPrecipitation', 'elevation', 'slope', 'soilpH',\n",
       "       'soilTexture', 'soilCarbon', 'soilNitrogen', 'soilPhosphorus',\n",
       "       'soilCarbonToNitrogen', 'soilBaseCationSaturation',\n",
       "       'soilCationExchangeCapacity', 'soilOrganicMatter',\n",
       "       'soilWaterGravimetric', 'soilWaterVolumetric', 'belowgroundEntities',\n",
       "       'belowgroundEntitiesOrderClassification', 'belowgroundEntitiesOrder',\n",
       "       'belowgroundEntitiesOrderMin', 'belowgroundEntitiesOrderMax',\n",
       "       'belowgroundEntitiesFunctional', 'belowgroundEntitiesDiameterMin',\n",
       "       'belowgroundEntitiesDiameterMax', 'traitName', 'traitValue',\n",
       "       'errorRiskEntries', 'errorRisk'],\n",
       "      dtype='object')"
      ]
     },
     "execution_count": 4,
     "metadata": {},
     "output_type": "execute_result"
    }
   ],
   "source": [
    "groot.columns"
   ]
  },
  {
   "cell_type": "code",
   "execution_count": 54,
   "id": "04a8218b-3dda-47a2-a930-4e60f4bc7831",
   "metadata": {},
   "outputs": [
    {
     "data": {
      "text/plain": [
       "array(['Rooting_depth', 'Root_production', 'Root_turnover_rate',\n",
       "       'Root_C_concentration', 'Root_C_N_ratio',\n",
       "       'Root_lignin_concentration', 'Root_N_concentration',\n",
       "       'Root_total_structural_carbohydrate_concentration',\n",
       "       'Root_Ca_concentration', 'Root_K_concentration',\n",
       "       'Root_Mg_concentration', 'Root_P_concentration',\n",
       "       'Root_length_density_volume', 'Specific_root_respiration',\n",
       "       'Root_mass_density', 'Root_Mn_concentration',\n",
       "       'Root_mycorrhizal colonization', 'Root_mass_fraction',\n",
       "       'Root_litter_mass_loss_rate', 'Coarse_root_fine_root_mass_ratio',\n",
       "       'Fine_root_mass_leaf_mass_ratio', 'Mean_Root_diameter',\n",
       "       'Root_tissue_density', 'Specific_root_area',\n",
       "       'Specific_root_length', 'Root_stele_diameter',\n",
       "       'Root_stele_fraction', 'Root_branching_density',\n",
       "       'Root_lifespan_mean', 'Root_lifespan_median',\n",
       "       'Root_vessel_diameter', 'Root_branching_ratio',\n",
       "       'Root_dry_matter_content', 'Root_cortex_thickness',\n",
       "       'Net_nitrogen_uptake_rate', 'Root_xylem_vessel_number',\n",
       "       'Root_N_P_ratio', 'Lateral_spread'], dtype=object)"
      ]
     },
     "execution_count": 54,
     "metadata": {},
     "output_type": "execute_result"
    }
   ],
   "source": [
    "# this is a ROOT trait database!!!!\n",
    "groot.loc[:, \"traitName\"].unique()"
   ]
  },
  {
   "cell_type": "code",
   "execution_count": 55,
   "id": "d566ada0-0f08-4c1b-87b9-f253402001b2",
   "metadata": {},
   "outputs": [
    {
     "data": {
      "text/plain": [
       "(array(['Coarse_root_fine_root_mass_ratio',\n",
       "        'Fine_root_mass_leaf_mass_ratio', 'Lateral_spread',\n",
       "        'Mean_Root_diameter', 'Net_nitrogen_uptake_rate', 'Root_C_N_ratio',\n",
       "        'Root_C_concentration', 'Root_Ca_concentration',\n",
       "        'Root_K_concentration', 'Root_Mg_concentration',\n",
       "        'Root_Mn_concentration', 'Root_N_P_ratio', 'Root_N_concentration',\n",
       "        'Root_P_concentration', 'Root_branching_density',\n",
       "        'Root_branching_ratio', 'Root_cortex_thickness',\n",
       "        'Root_dry_matter_content', 'Root_length_density_volume',\n",
       "        'Root_lifespan_mean', 'Root_lifespan_median',\n",
       "        'Root_lignin_concentration', 'Root_litter_mass_loss_rate',\n",
       "        'Root_mass_density', 'Root_mass_fraction',\n",
       "        'Root_mycorrhizal colonization', 'Root_production',\n",
       "        'Root_stele_diameter', 'Root_stele_fraction',\n",
       "        'Root_tissue_density',\n",
       "        'Root_total_structural_carbohydrate_concentration',\n",
       "        'Root_turnover_rate', 'Root_vessel_diameter',\n",
       "        'Root_xylem_vessel_number', 'Rooting_depth', 'Specific_root_area',\n",
       "        'Specific_root_length', 'Specific_root_respiration'], dtype=object),\n",
       " array([ 1719,  1818,  1422, 10719,   239,  4493,  6124,  1521,  1460,\n",
       "         1408,   251,   179, 10212,  2742,  2130,   474,   384,  4097,\n",
       "         1794,   244,   231,   837,   621,  1815, 15524,  6819,   734,\n",
       "          982,  1080, 10521,   465,   523,   165,   129,  2669,  2693,\n",
       "        12364,  2620]))"
      ]
     },
     "execution_count": 55,
     "metadata": {},
     "output_type": "execute_result"
    }
   ],
   "source": [
    "np.unique(groot.loc[:, \"traitName\"], return_counts=True)"
   ]
  },
  {
   "cell_type": "code",
   "execution_count": 15,
   "id": "a929b012-6800-4ce8-9ec3-0f1d3f8fb06f",
   "metadata": {},
   "outputs": [
    {
     "data": {
      "image/png": "[encoded data removed]",
      "text/plain": [
       "<Figure size 2000x600 with 1 Axes>"
      ]
     },
     "metadata": {},
     "output_type": "display_data"
    }
   ],
   "source": [
    "fig, axes = plt.subplots()\n",
    "fig.set_size_inches(20, 6)\n",
    "traits, t_count = np.unique(groot.traitName, return_counts=True)\n",
    "axes.hist(t_count, bins=t_count.size, color = \"brown\", rwidth=0.8)\n",
    "axes.set_xticks(labels=traits, ticks=np.linspace(start=axes.get_xlim()[0], stop=axes.get_xlim()[1], num=traits.size), rotation=90)\n",
    "plt.show()"
   ]
  },
  {
   "cell_type": "code",
   "execution_count": 19,
   "id": "063140e6-be1a-4fee-b012-4255a7355cee",
   "metadata": {},
   "outputs": [
    {
     "data": {
      "text/plain": [
       "traitName     0.0\n",
       "traitValue    0.0\n",
       "dtype: float64"
      ]
     },
     "execution_count": 19,
     "metadata": {},
     "output_type": "execute_result"
    }
   ],
   "source": [
    "groot.loc[:, [\"traitName\", \"traitValue\"]].isna().mean()"
   ]
  },
  {
   "cell_type": "code",
   "execution_count": null,
   "id": "be73a267-7ba1-43f5-8f81-72881b34b36b",
   "metadata": {},
   "outputs": [],
   "source": []
  },
  {
   "cell_type": "code",
   "execution_count": 56,
   "id": "cbbfa98d-2710-4307-b1f2-9cd060d71bca",
   "metadata": {},
   "outputs": [
    {
     "data": {
      "text/plain": [
       "np.float64(0.7910822783701914)"
      ]
     },
     "execution_count": 56,
     "metadata": {},
     "output_type": "execute_result"
    }
   ],
   "source": [
    "groot.loc[:, \"family\"].isna().mean()  # fucking hell!!!"
   ]
  },
  {
   "cell_type": "code",
   "execution_count": 57,
   "id": "3cccda70-e336-496b-9601-20c51ffb3de7",
   "metadata": {},
   "outputs": [],
   "source": [
    "rdepth = groot.loc[groot.loc[:, \"traitName\"] == \"Rooting_depth\", [\"genus\", \"traitValue\"]]"
   ]
  },
  {
   "cell_type": "code",
   "execution_count": 58,
   "id": "86a04d91-06fe-4e2d-b2f3-f1afb61dd1ae",
   "metadata": {},
   "outputs": [
    {
     "data": {
      "text/plain": [
       "(2669, 2)"
      ]
     },
     "execution_count": 58,
     "metadata": {},
     "output_type": "execute_result"
    }
   ],
   "source": [
    "rdepth.shape"
   ]
  },
  {
   "cell_type": "code",
   "execution_count": 59,
   "id": "2e1a70c7-63cc-4732-b0e3-ab1656ae86cf",
   "metadata": {},
   "outputs": [],
   "source": [
    "genus = np.unique(groot.genus)"
   ]
  },
  {
   "cell_type": "code",
   "execution_count": 60,
   "id": "ea59d3d5-fbc5-4b89-a01b-ef4fb3a7a93e",
   "metadata": {},
   "outputs": [
    {
     "data": {
      "text/plain": [
       "1959"
      ]
     },
     "execution_count": 60,
     "metadata": {},
     "output_type": "execute_result"
    }
   ],
   "source": [
    "genus.size  # that's a lot!!!"
   ]
  },
  {
   "cell_type": "code",
   "execution_count": 16,
   "id": "4ec34ff6-614c-4491-b261-5d902e862fc0",
   "metadata": {},
   "outputs": [
    {
     "data": {
      "text/plain": [
       "6675           Pinus\n",
       "4075         Quercus\n",
       "4069          Betula\n",
       "3775            Acer\n",
       "1966             Poa\n",
       "1957         Festuca\n",
       "1636           Carex\n",
       "1589        Fraxinus\n",
       "1485           Picea\n",
       "1440        Plantago\n",
       "1436          Galium\n",
       "1398       Trifolium\n",
       "1312    Anthoxanthum\n",
       "1287           Larix\n",
       "1283      Ranunculus\n",
       "1259         Populus\n",
       "1238        Dactylis\n",
       "1148        Veronica\n",
       "1118           Rumex\n",
       "1113           Fagus\n",
       "dtype: object"
      ]
     },
     "execution_count": 16,
     "metadata": {},
     "output_type": "execute_result"
    }
   ],
   "source": [
    "genus, freqs = np.unique(groot.genus, return_counts=True)\n",
    "pd.Series(genus, index=freqs).sort_index(ascending=False)[:20] # Pinus has the most records"
   ]
  },
  {
   "cell_type": "code",
   "execution_count": 62,
   "id": "a07729ad-a352-44e2-bb67-1aa066c3f9d6",
   "metadata": {},
   "outputs": [],
   "source": [
    "pinus = groot.loc[np.bitwise_and(groot.genus == \"Pinus\", groot.traitName == \"Rooting_depth\"), \"traitValue\"]"
   ]
  },
  {
   "cell_type": "code",
   "execution_count": 63,
   "id": "ef89699d-b8f0-4c1e-8324-a12140edd7a1",
   "metadata": {},
   "outputs": [
    {
     "data": {
      "text/plain": [
       "2        1.0000\n",
       "3        0.9800\n",
       "4        0.5600\n",
       "290      2.2000\n",
       "291      2.0000\n",
       "          ...  \n",
       "60095    0.8128\n",
       "60096    0.0762\n",
       "60097    0.9779\n",
       "61501    1.2500\n",
       "61510    1.0000\n",
       "Name: traitValue, Length: 140, dtype: float64"
      ]
     },
     "execution_count": 63,
     "metadata": {},
     "output_type": "execute_result"
    }
   ],
   "source": [
    "pinus"
   ]
  },
  {
   "cell_type": "code",
   "execution_count": 65,
   "id": "ca8e2502-3581-4506-aa1d-af2922e116a1",
   "metadata": {},
   "outputs": [
    {
     "data": {
      "image/png": "[encoded data removed]",
      "text/plain": [
       "<Figure size 600x600 with 1 Axes>"
      ]
     },
     "metadata": {},
     "output_type": "display_data"
    }
   ],
   "source": [
    "fig, axes = plt.subplots()\n",
    "fig.set_size_inches(6, 6)\n",
    "axes.hist(pinus)\n",
    "plt.show()"
   ]
  },
  {
   "cell_type": "code",
   "execution_count": 21,
   "id": "4d7fbdd4-72f7-4ed3-9bb8-ae856bdcaa28",
   "metadata": {},
   "outputs": [],
   "source": [
    "# dask seems cumbersome, sticking to pandas :("
   ]
  },
  {
   "cell_type": "code",
   "execution_count": 5,
   "id": "346b6188-be1d-41f8-bfaa-e89f9ade2718",
   "metadata": {},
   "outputs": [
    {
     "data": {
      "text/plain": [
       "(Index(['GRooTID', 'source', 'versionSource', 'originalID',\n",
       "        'referencesAbbreviated', 'references', 'referencesDataset',\n",
       "        'referencesAdditional', 'family', 'genus', 'species', 'infraspecific',\n",
       "        'familyTNRS', 'genusTNRS', 'speciesTNRS', 'infraspecificTNRS',\n",
       "        'taxonomicStatus', 'taxonomicInformation', 'group', 'order',\n",
       "        'growthForm', 'photosyntheticPathway', 'woodiness',\n",
       "        'mycorrhizalAssociationType', 'mycorrhizalAssociationTypeFungalRoot',\n",
       "        'nitrogenFixationNodDB', 'abilityToGrownClonallyCloPla',\n",
       "        'budBearingOrganCloPla', 'vitality', 'measurementProvenance',\n",
       "        'measurementTreatments', 'measurementMethod', 'year', 'yearBegin',\n",
       "        'yearEnd', 'ageStand', 'agePlant', 'locationID', 'location',\n",
       "        'decimalLatitude', 'decimalLongitud', 'climaticInformation',\n",
       "        'biomesKoeppen', 'biomesKoeppenGroup', 'temperatureColdestMonth',\n",
       "        'temperatureWarmestMonth', 'meanAnnualTemperature',\n",
       "        'meanAnnualPrecipitation', 'elevation', 'slope', 'soilpH',\n",
       "        'soilTexture', 'soilCarbon', 'soilNitrogen', 'soilPhosphorus',\n",
       "        'soilCarbonToNitrogen', 'soilBaseCationSaturation',\n",
       "        'soilCationExchangeCapacity', 'soilOrganicMatter',\n",
       "        'soilWaterGravimetric', 'soilWaterVolumetric', 'belowgroundEntities',\n",
       "        'belowgroundEntitiesOrderClassification', 'belowgroundEntitiesOrder',\n",
       "        'belowgroundEntitiesOrderMin', 'belowgroundEntitiesOrderMax',\n",
       "        'belowgroundEntitiesFunctional', 'belowgroundEntitiesDiameterMin',\n",
       "        'belowgroundEntitiesDiameterMax', 'traitName', 'traitValue',\n",
       "        'errorRiskEntries', 'errorRisk'],\n",
       "       dtype='object'),\n",
       " 73)"
      ]
     },
     "execution_count": 5,
     "metadata": {},
     "output_type": "execute_result"
    }
   ],
   "source": [
    "groot.columns, groot.columns.size"
   ]
  },
  {
   "cell_type": "code",
   "execution_count": 8,
   "id": "64378f9f-a8e9-4305-b4f8-4ecb32f574b9",
   "metadata": {},
   "outputs": [
    {
     "data": {
      "text/plain": [
       "np.float64(0.9128626709390485)"
      ]
     },
     "execution_count": 8,
     "metadata": {},
     "output_type": "execute_result"
    }
   ],
   "source": [
    "groot.agePlant.isna().mean()  # WTF????"
   ]
  },
  {
   "cell_type": "code",
   "execution_count": 12,
   "id": "0bfc3a32-6a90-48ec-a1a1-3898b5c696f6",
   "metadata": {},
   "outputs": [
    {
     "data": {
      "text/plain": [
       "GRooTID                                   0.000000\n",
       "source                                    0.000000\n",
       "versionSource                             0.472238\n",
       "originalID                                0.301439\n",
       "referencesAbbreviated                     0.000000\n",
       "references                                0.000000\n",
       "referencesDataset                         0.656143\n",
       "referencesAdditional                      0.979312\n",
       "family                                    0.791082\n",
       "genus                                     0.000000\n",
       "species                                   0.014463\n",
       "infraspecific                             0.991324\n",
       "familyTNRS                                0.000079\n",
       "genusTNRS                                 0.000000\n",
       "speciesTNRS                               0.015645\n",
       "infraspecificTNRS                         0.991368\n",
       "taxonomicStatus                           0.000000\n",
       "taxonomicInformation                      0.000000\n",
       "group                                     0.089694\n",
       "order                                     0.000140\n",
       "growthForm                                0.043538\n",
       "photosyntheticPathway                     0.157141\n",
       "woodiness                                 0.036770\n",
       "mycorrhizalAssociationType                0.838017\n",
       "mycorrhizalAssociationTypeFungalRoot      0.019497\n",
       "nitrogenFixationNodDB                     0.934513\n",
       "abilityToGrownClonallyCloPla              0.580011\n",
       "budBearingOrganCloPla                     0.747894\n",
       "vitality                                  0.000000\n",
       "measurementProvenance                     0.000000\n",
       "measurementTreatments                     0.838639\n",
       "measurementMethod                         0.594912\n",
       "year                                      0.636182\n",
       "yearBegin                                 0.656301\n",
       "yearEnd                                   0.658472\n",
       "ageStand                                  0.890722\n",
       "agePlant                                  0.912863\n",
       "locationID                                0.713321\n",
       "location                                  0.319037\n",
       "decimalLatitude                           0.156572\n",
       "decimalLongitud                           0.156572\n",
       "climaticInformation                       0.914544\n",
       "biomesKoeppen                             0.375190\n",
       "biomesKoeppenGroup                        0.377948\n",
       "temperatureColdestMonth                   0.945974\n",
       "temperatureWarmestMonth                   0.945974\n",
       "meanAnnualTemperature                     0.767278\n",
       "meanAnnualPrecipitation                   0.753235\n",
       "elevation                                 0.836249\n",
       "slope                                     0.986903\n",
       "soilpH                                    0.839584\n",
       "soilTexture                               0.904887\n",
       "soilCarbon                                0.940152\n",
       "soilNitrogen                              0.871058\n",
       "soilPhosphorus                            0.925417\n",
       "soilCarbonToNitrogen                      0.985703\n",
       "soilBaseCationSaturation                  0.958677\n",
       "soilCationExchangeCapacity                0.955595\n",
       "soilOrganicMatter                         0.963755\n",
       "soilWaterGravimetric                      0.977159\n",
       "soilWaterVolumetric                       0.994379\n",
       "belowgroundEntities                       0.000000\n",
       "belowgroundEntitiesOrderClassification    0.808942\n",
       "belowgroundEntitiesOrder                  0.818564\n",
       "belowgroundEntitiesOrderMin               0.967432\n",
       "belowgroundEntitiesOrderMax               0.967624\n",
       "belowgroundEntitiesFunctional             0.819054\n",
       "belowgroundEntitiesDiameterMin            0.809459\n",
       "belowgroundEntitiesDiameterMax            0.805502\n",
       "traitName                                 0.000000\n",
       "traitValue                                0.000000\n",
       "errorRiskEntries                          0.015645\n",
       "errorRisk                                 0.015645\n",
       "dtype: float64"
      ]
     },
     "execution_count": 12,
     "metadata": {},
     "output_type": "execute_result"
    }
   ],
   "source": [
    "groot.isna().mean(axis=0)"
   ]
  },
  {
   "cell_type": "code",
   "execution_count": 34,
   "id": "53f9efe7-ea59-4775-b54b-747d47834bc4",
   "metadata": {},
   "outputs": [
    {
     "data": {
      "text/plain": [
       "np.float64(0.9128626709390485)"
      ]
     },
     "execution_count": 34,
     "metadata": {},
     "output_type": "execute_result"
    }
   ],
   "source": [
    "# screw this man\n",
    "groot.agePlant.isna().mean()"
   ]
  },
  {
   "cell_type": "code",
   "execution_count": 42,
   "id": "40f09634-1c19-4dd1-8dd3-36fc15506294",
   "metadata": {},
   "outputs": [
    {
     "data": {
      "text/plain": [
       "np.int64(9953)"
      ]
     },
     "execution_count": 42,
     "metadata": {},
     "output_type": "execute_result"
    }
   ],
   "source": [
    "np.logical_not(groot.agePlant.isna()).sum()"
   ]
  },
  {
   "cell_type": "code",
   "execution_count": 29,
   "id": "6f3e581c-467a-406a-b258-9828dad41a9d",
   "metadata": {},
   "outputs": [
    {
     "data": {
      "image/png": "[encoded data removed]",
      "text/plain": [
       "<Figure size 1000x1000 with 1 Axes>"
      ]
     },
     "metadata": {},
     "output_type": "display_data"
    }
   ],
   "source": [
    "fig, axes = plt.subplots()\n",
    "fig.set_size_inches(10, 10)\n",
    "axes.hist(groot.agePlant, bins=groot.agePlant.unique().size, color=\"red\", rwidth=0.9)\n",
    "axes.set_xlabel(\"Age of plant (in years)\")\n",
    "plt.show()"
   ]
  },
  {
   "cell_type": "code",
   "execution_count": 3,
   "id": "d869e69f-f560-4f51-94f4-720371314e96",
   "metadata": {},
   "outputs": [
    {
     "data": {
      "text/html": [
       "<div>\n",
       "<style scoped>\n",
       "    .dataframe tbody tr th:only-of-type {\n",
       "        vertical-align: middle;\n",
       "    }\n",
       "\n",
       "    .dataframe tbody tr th {\n",
       "        vertical-align: top;\n",
       "    }\n",
       "\n",
       "    .dataframe thead th {\n",
       "        text-align: right;\n",
       "    }\n",
       "</style>\n",
       "<table border=\"1\" class=\"dataframe\">\n",
       "  <thead>\n",
       "    <tr style=\"text-align: right;\">\n",
       "      <th></th>\n",
       "      <th>0</th>\n",
       "      <th>1</th>\n",
       "    </tr>\n",
       "  </thead>\n",
       "  <tbody>\n",
       "    <tr>\n",
       "      <th>0</th>\n",
       "      <td>AM</td>\n",
       "      <td>71043</td>\n",
       "    </tr>\n",
       "    <tr>\n",
       "      <th>1</th>\n",
       "      <td>EcM</td>\n",
       "      <td>22727</td>\n",
       "    </tr>\n",
       "    <tr>\n",
       "      <th>2</th>\n",
       "      <td>EcM-AM</td>\n",
       "      <td>2835</td>\n",
       "    </tr>\n",
       "    <tr>\n",
       "      <th>3</th>\n",
       "      <td>ErM</td>\n",
       "      <td>1177</td>\n",
       "    </tr>\n",
       "    <tr>\n",
       "      <th>4</th>\n",
       "      <td>NM</td>\n",
       "      <td>1497</td>\n",
       "    </tr>\n",
       "    <tr>\n",
       "      <th>5</th>\n",
       "      <td>NM-AM</td>\n",
       "      <td>12231</td>\n",
       "    </tr>\n",
       "    <tr>\n",
       "      <th>6</th>\n",
       "      <td>NM-AM, rarely EcM</td>\n",
       "      <td>14</td>\n",
       "    </tr>\n",
       "    <tr>\n",
       "      <th>7</th>\n",
       "      <td>OM</td>\n",
       "      <td>315</td>\n",
       "    </tr>\n",
       "    <tr>\n",
       "      <th>8</th>\n",
       "      <td>species-specific: AM or rarely EcM-AM or AM</td>\n",
       "      <td>15</td>\n",
       "    </tr>\n",
       "    <tr>\n",
       "      <th>9</th>\n",
       "      <td>uncertain</td>\n",
       "      <td>141</td>\n",
       "    </tr>\n",
       "  </tbody>\n",
       "</table>\n",
       "</div>"
      ],
      "text/plain": [
       "                                             0      1\n",
       "0                                           AM  71043\n",
       "1                                          EcM  22727\n",
       "2                                       EcM-AM   2835\n",
       "3                                          ErM   1177\n",
       "4                                           NM   1497\n",
       "5                                        NM-AM  12231\n",
       "6                            NM-AM, rarely EcM     14\n",
       "7                                           OM    315\n",
       "8  species-specific: AM or rarely EcM-AM or AM     15\n",
       "9                                    uncertain    141"
      ]
     },
     "execution_count": 3,
     "metadata": {},
     "output_type": "execute_result"
    }
   ],
   "source": [
    "pd.DataFrame(np.unique_counts(groot.loc[:, \"mycorrhizalAssociationTypeFungalRoot\"].dropna())).T"
   ]
  },
  {
   "cell_type": "code",
   "execution_count": null,
   "id": "68f65127-fae4-43fa-9090-97843aef4d25",
   "metadata": {},
   "outputs": [],
   "source": []
  }
 ],
 "metadata": {
  "kernelspec": {
   "display_name": "Python 3 (ipykernel)",
   "language": "python",
   "name": "python3"
  },
  "language_info": {
   "codemirror_mode": {
    "name": "ipython",
    "version": 3
   },
   "file_extension": ".py",
   "mimetype": "text/x-python",
   "name": "python",
   "nbconvert_exporter": "python",
   "pygments_lexer": "ipython3",
   "version": "3.13.2"
  }
 },
 "nbformat": 4,
 "nbformat_minor": 5
}
