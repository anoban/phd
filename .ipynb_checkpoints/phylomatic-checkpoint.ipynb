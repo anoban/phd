{
 "cells": [
  {
   "cell_type": "code",
   "execution_count": 1,
   "id": "11c62638-cb82-4835-a8d5-1be62ac45571",
   "metadata": {},
   "outputs": [],
   "source": [
    "import re\n",
    "import os\n",
    "import zipfile\n",
    "\n",
    "import pandas as pd\n",
    "import numpy as np"
   ]
  },
  {
   "cell_type": "code",
   "execution_count": 11,
   "id": "25cd6901-0147-449b-88b6-e3cd09e7cc5c",
   "metadata": {},
   "outputs": [],
   "source": [
    "# Archive of World Flora Online (WFO) - https://zenodo.org/records/14538251\n",
    "# families_dwc.tar.gz file contains zipped archives of classification data for all families\n",
    "# each family is contained within a separate .zip file and the core data are in a file called `classification.csv'\n",
    "# harvest the following columns from each of  these csv files\n",
    "# family, genus, specificEpithet & majorGroup"
   ]
  },
  {
   "cell_type": "code",
   "execution_count": 27,
   "id": "0036f013-2e3d-460e-8c8f-d3222e354bca",
   "metadata": {},
   "outputs": [
    {
     "data": {
      "text/html": [
       "<div>\n",
       "<style scoped>\n",
       "    .dataframe tbody tr th:only-of-type {\n",
       "        vertical-align: middle;\n",
       "    }\n",
       "\n",
       "    .dataframe tbody tr th {\n",
       "        vertical-align: top;\n",
       "    }\n",
       "\n",
       "    .dataframe thead th {\n",
       "        text-align: right;\n",
       "    }\n",
       "</style>\n",
       "<table border=\"1\" class=\"dataframe\">\n",
       "  <thead>\n",
       "    <tr style=\"text-align: right;\">\n",
       "      <th></th>\n",
       "      <th>family</th>\n",
       "      <th>genus</th>\n",
       "      <th>specificEpithet</th>\n",
       "      <th>majorGroup</th>\n",
       "    </tr>\n",
       "  </thead>\n",
       "  <tbody>\n",
       "  </tbody>\n",
       "</table>\n",
       "</div>"
      ],
      "text/plain": [
       "Empty DataFrame\n",
       "Columns: [family, genus, specificEpithet, majorGroup]\n",
       "Index: []"
      ]
     },
     "execution_count": 27,
     "metadata": {},
     "output_type": "execute_result"
    }
   ],
   "source": [
    "wfo = pd.DataFrame(columns=[\"family\", \"genus\", \"specificEpithet\", \"majorGroup\"], dtype=str)\n",
    "wfo"
   ]
  },
  {
   "cell_type": "code",
   "execution_count": 13,
   "id": "a6ef5573-8690-4172-a383-5c7d9224b202",
   "metadata": {},
   "outputs": [
    {
     "data": {
      "text/plain": [
       "'C:\\\\Users\\\\90963425\\\\OneDrive - Western Sydney University\\\\PhD\\\\code'"
      ]
     },
     "execution_count": 13,
     "metadata": {},
     "output_type": "execute_result"
    }
   ],
   "source": [
    "os.getcwd()"
   ]
  },
  {
   "cell_type": "code",
   "execution_count": 30,
   "id": "dd3d328d-8ca2-4746-837a-723b1832192f",
   "metadata": {},
   "outputs": [],
   "source": [
    "for archive in os.listdir(r\"./Families/\"):\n",
    "    with zipfile.ZipFile(file=f\"./Families/{archive}\", mode=\"r\") as zf:\n",
    "        with zf.open(\"classification.csv\") as csf:\n",
    "            df = pd.read_csv(filepath_or_buffer=csf, low_memory=False, encoding=\"latin\")\n",
    "            wfo = pd.concat([wfo, df.loc[:, [\"family\", \"genus\", \"specificEpithet\", \"majorGroup\"]]], ignore_index=True)"
   ]
  },
  {
   "cell_type": "code",
   "execution_count": 35,
   "id": "1b78f955-038b-411c-a219-5523fa8f55e3",
   "metadata": {},
   "outputs": [
    {
     "data": {
      "text/plain": [
       "(1780273, 4)"
      ]
     },
     "execution_count": 35,
     "metadata": {},
     "output_type": "execute_result"
    }
   ],
   "source": [
    "wfo.shape"
   ]
  },
  {
   "cell_type": "code",
   "execution_count": 36,
   "id": "7250c209-b840-40d4-a420-3f1fab63fb4a",
   "metadata": {},
   "outputs": [
    {
     "data": {
      "text/plain": [
       "array(['A', 'Marchantiophyta', 'Bryophyta', 'Polypodiophyta',\n",
       "       'Anthocerotophyta', 'Pinophyta', 'Cycadophyta', 'Ginkgophyta',\n",
       "       'Lycopodiophyta'], dtype=object)"
      ]
     },
     "execution_count": 36,
     "metadata": {},
     "output_type": "execute_result"
    }
   ],
   "source": [
    "# A stands for Angiosperms???\n",
    "wfo.loc[:, \"majorGroup\"].unique()"
   ]
  },
  {
   "cell_type": "code",
   "execution_count": 39,
   "id": "9a7caebb-0761-4346-a5d0-2a4535328549",
   "metadata": {},
   "outputs": [
    {
     "data": {
      "text/plain": [
       "Index                   132\n",
       "family             14242184\n",
       "genus              14242184\n",
       "specificEpithet    14242184\n",
       "majorGroup         14242184\n",
       "dtype: int64"
      ]
     },
     "execution_count": 39,
     "metadata": {},
     "output_type": "execute_result"
    }
   ],
   "source": [
    "wfo.memory_usage()"
   ]
  },
  {
   "cell_type": "code",
   "execution_count": 42,
   "id": "727acd2a-7ee7-4967-802f-5568c9efddf3",
   "metadata": {},
   "outputs": [
    {
     "data": {
      "text/plain": [
       "(1149343, 4)"
      ]
     },
     "execution_count": 42,
     "metadata": {},
     "output_type": "execute_result"
    }
   ],
   "source": [
    "wfo_noduplicates = wfo.drop_duplicates()\n",
    "wfo_noduplicates.shape"
   ]
  },
  {
   "cell_type": "code",
   "execution_count": 49,
   "id": "2d7a2da7-b323-489a-a9ad-7f6a991c4ef6",
   "metadata": {},
   "outputs": [
    {
     "data": {
      "text/plain": [
       "family                13\n",
       "genus                726\n",
       "specificEpithet    43254\n",
       "majorGroup             0\n",
       "dtype: int64"
      ]
     },
     "execution_count": 49,
     "metadata": {},
     "output_type": "execute_result"
    }
   ],
   "source": [
    "wfo_noduplicates.isna().sum()"
   ]
  },
  {
   "cell_type": "code",
   "execution_count": 50,
   "id": "2527ace3-045c-4cb1-aec2-2d338c82516e",
   "metadata": {},
   "outputs": [],
   "source": [
    "# the most important rows are family and genus \n",
    "wfo_noduplicates = wfo_noduplicates.dropna(subset=[\"family\", \"genus\"])"
   ]
  },
  {
   "cell_type": "code",
   "execution_count": 51,
   "id": "87316c5b-7e66-43d1-8e91-bd3aca825462",
   "metadata": {},
   "outputs": [
    {
     "data": {
      "text/plain": [
       "family                 0\n",
       "genus                  0\n",
       "specificEpithet    42520\n",
       "majorGroup             0\n",
       "dtype: int64"
      ]
     },
     "execution_count": 51,
     "metadata": {},
     "output_type": "execute_result"
    }
   ],
   "source": [
    "wfo_noduplicates.isna().sum()"
   ]
  },
  {
   "cell_type": "code",
   "execution_count": 52,
   "id": "dd3008d1-6a9b-4a68-8440-0e04fc0597cf",
   "metadata": {},
   "outputs": [],
   "source": [
    "# wfo_noduplicates.to_csv(r\"./wfo_taxonomy_clean.csv\")"
   ]
  },
  {
   "cell_type": "code",
   "execution_count": 3,
   "id": "b475752d-21f3-429d-af12-bb348daa15d5",
   "metadata": {},
   "outputs": [],
   "source": [
    "wfo_noduplicates = pd.read_csv(r\"./wfo_taxonomy_clean.csv\", low_memory=False)"
   ]
  },
  {
   "cell_type": "code",
   "execution_count": 4,
   "id": "5bdb8858-f850-40b8-bcf0-16996d715621",
   "metadata": {},
   "outputs": [],
   "source": [
    "groot = pd.read_csv(r\"./GRooTFullVersion.csv\", low_memory=False, encoding=\"latin\")"
   ]
  },
  {
   "cell_type": "code",
   "execution_count": 5,
   "id": "17b4432a-78ba-4a32-a5b5-c30e649861a9",
   "metadata": {},
   "outputs": [
    {
     "data": {
      "text/plain": [
       "family     6135\n",
       "genus         0\n",
       "species     138\n",
       "dtype: int64"
      ]
     },
     "execution_count": 5,
     "metadata": {},
     "output_type": "execute_result"
    }
   ],
   "source": [
    "groot_tax = groot.loc[:, [\"family\", \"genus\", \"species\"]].drop_duplicates()\n",
    "groot_tax.isna().sum()"
   ]
  },
  {
   "cell_type": "code",
   "execution_count": 6,
   "id": "1dd74bd7-3baa-4993-84c3-e676297048ec",
   "metadata": {},
   "outputs": [
    {
     "data": {
      "text/plain": [
       "0               Betula\n",
       "1                Picea\n",
       "2                Pinus\n",
       "5            Agropyron\n",
       "6            Artemisia\n",
       "              ...     \n",
       "114132    Lamprocapnos\n",
       "114149       Paederota\n",
       "114166        Prospero\n",
       "114168     Rhaponticum\n",
       "114184        Serapias\n",
       "Name: genus, Length: 1959, dtype: object"
      ]
     },
     "execution_count": 6,
     "metadata": {},
     "output_type": "execute_result"
    }
   ],
   "source": [
    "groot_tax.genus.drop_duplicates()"
   ]
  },
  {
   "cell_type": "code",
   "execution_count": 7,
   "id": "2dd1b89c-80b4-474e-a4e8-39276740b8ba",
   "metadata": {},
   "outputs": [
    {
     "data": {
      "text/plain": [
       "1932"
      ]
     },
     "execution_count": 7,
     "metadata": {},
     "output_type": "execute_result"
    }
   ],
   "source": [
    "# we don't have the family infor for all genera :(\n",
    "np.intersect1d(groot_tax.genus.drop_duplicates(), wfo_noduplicates.genus).size"
   ]
  },
  {
   "cell_type": "code",
   "execution_count": 8,
   "id": "d219c4d0-b6ca-4a03-8591-d471bd1bca6a",
   "metadata": {},
   "outputs": [
    {
     "data": {
      "text/plain": [
       "27"
      ]
     },
     "execution_count": 8,
     "metadata": {},
     "output_type": "execute_result"
    }
   ],
   "source": [
    "# this is because of case differences!\n",
    "groot_tax.genus.drop_duplicates().size - np.intersect1d(groot_tax.genus.drop_duplicates(), wfo_noduplicates.genus).size"
   ]
  },
  {
   "cell_type": "code",
   "execution_count": 29,
   "id": "a95b611d-8df0-4d35-bae0-7163126375ec",
   "metadata": {},
   "outputs": [
    {
     "data": {
      "text/plain": [
       "{'Anona',\n",
       " 'Braciaria',\n",
       " 'Cyanodon',\n",
       " 'Helychrisum',\n",
       " 'Matthiolaria',\n",
       " 'Rhipogonum',\n",
       " 'Rynchosia'}"
      ]
     },
     "execution_count": 29,
     "metadata": {},
     "output_type": "execute_result"
    }
   ],
   "source": [
    "# we still have some work to do manually\n",
    "missing = set(groot_tax.genus.str.title().str.strip()).difference(set(wfo_noduplicates.genus.str.strip().str.title()))\n",
    "missing"
   ]
  },
  {
   "cell_type": "code",
   "execution_count": 27,
   "id": "dcaa5fc7-bac7-4980-b455-dd0a591029fb",
   "metadata": {},
   "outputs": [
    {
     "data": {
      "text/plain": [
       "45827     Diclinanona\n",
       "45828     Diclinanona\n",
       "45829     Diclinanona\n",
       "45830     Diclinanona\n",
       "50994       Stenanona\n",
       "50996       Stenanona\n",
       "50997       Stenanona\n",
       "50998       Stenanona\n",
       "50999       Stenanona\n",
       "51000       Stenanona\n",
       "51001       Stenanona\n",
       "51002       Stenanona\n",
       "51006       Stenanona\n",
       "51007       Stenanona\n",
       "51008       Stenanona\n",
       "51009       Stenanona\n",
       "51015       Stenanona\n",
       "51018       Stenanona\n",
       "51028       Stenanona\n",
       "51029       Stenanona\n",
       "51030       Stenanona\n",
       "51031       Stenanona\n",
       "324046    Canonanthus\n",
       "324053    Canonanthus\n",
       "Name: genus, dtype: object"
      ]
     },
     "execution_count": 27,
     "metadata": {},
     "output_type": "execute_result"
    }
   ],
   "source": [
    "# these do contain \"anona\", but.......\n",
    "wfo_noduplicates.genus[wfo_noduplicates.genus.str.contains(\"anona\")]"
   ]
  },
  {
   "cell_type": "code",
   "execution_count": 33,
   "id": "4c4809f8-47a3-4c7f-abef-49926f2d4669",
   "metadata": {},
   "outputs": [
    {
     "data": {
      "text/plain": [
       "[0, 0, 0, 0, 0, 0, 0]"
      ]
     },
     "execution_count": 33,
     "metadata": {},
     "output_type": "execute_result"
    }
   ],
   "source": [
    "# welp\n",
    "[wfo_noduplicates.genus[wfo_noduplicates.genus.str.startswith(g)].size for g in missing]"
   ]
  },
  {
   "cell_type": "code",
   "execution_count": 93,
   "id": "3b2f96eb-c953-4904-bb39-88c1dc71cc49",
   "metadata": {},
   "outputs": [
    {
     "data": {
      "text/plain": [
       "np.int64(1)"
      ]
     },
     "execution_count": 93,
     "metadata": {},
     "output_type": "execute_result"
    }
   ],
   "source": [
    "groot_tax.genus.str.title().str.contains(\"Anona\").sum()"
   ]
  },
  {
   "cell_type": "code",
   "execution_count": 41,
   "id": "09243868-f52e-4c55-9f62-314b85151066",
   "metadata": {},
   "outputs": [
    {
     "data": {
      "text/plain": [
       "array(['Cananga', 'Cyathocalyx', 'Drepananthus', 'Lettowianthus',\n",
       "       'Meiocarpidium', 'Ambavia', 'Cleistopholis', 'Mezzettia',\n",
       "       'Tetrameranthus', 'Anaxagorea', 'Annona', 'Asimina', 'Diclinanona',\n",
       "       'Disepalum', 'Goniothalamus', 'Anonidium', 'Neostenanthera',\n",
       "       'Bocagea', 'Hornschuchia', 'Trigynaea', 'Cardiopetalum',\n",
       "       'Cymbopetalum', 'Froesiodendron', 'Porcelia', 'Mkilua',\n",
       "       'Artabotrys', 'Letestudoxa', 'Pseudartabotrys', 'Duckeanthus',\n",
       "       'Duguetia', 'Fusaea', 'Guatteria', 'Asteranthe', 'Hexalobus',\n",
       "       'Uvariastrum', 'Isolona', 'Monodora', 'Dennettia', 'Lukea',\n",
       "       'Mischogyne', 'Monocyclanthus', 'Uvariodendron', 'Uvariopsis',\n",
       "       'Ophrypetalum', 'Sanrafaelia', 'Afroguatteria', 'Cleistochlamys',\n",
       "       'Sphaerocoryne', 'Toussaintia', 'Dasymaschalon', 'Desmos',\n",
       "       'Friesodielsia', 'Monanthotaxis', 'Fissistigma', 'Pyramidanthe',\n",
       "       'Dielsiothamnus', 'Uvaria', 'Xylopia', 'Annickia',\n",
       "       'Dendrokingstonia', 'Fenerivia', 'Maasia', 'Cremastosperma',\n",
       "       'Malmea', 'Pseudoxandra', 'Ephedranthus', 'Klarobelia',\n",
       "       'Mosannona', 'Oxandra', 'Pseudephedranthus', 'Pseudomalmea',\n",
       "       'Ruizodendron', 'Bocageopsis', 'Onychopetalum', 'Unonopsis',\n",
       "       'Huberantha', 'Monoon', 'Neo-uvaria', 'Marsypopetalum', 'Orophea',\n",
       "       'Pseuduvaria', 'Trivalvaria', 'Alphonsea', 'Miliusa', 'Mitrephora',\n",
       "       'Phaeanthus', 'Platymitra', 'Wangia', 'Polyalthiopsis',\n",
       "       'Polyalthia', 'Popowia', 'Desmopsis', 'Meiogyne', 'Sapranthus',\n",
       "       'Tridimeris', 'Wuodendron', 'Sageraea', 'Stelechocarpus',\n",
       "       'Winitia', 'Leoheo', 'Monocarpia', 'Phoenicanthus', 'Brieya',\n",
       "       'Greenwayodendron', 'Mwasumbia', 'Piptostigma', 'Polyceratocarpus',\n",
       "       'Sirdavidia', 'Canangium', 'Unona', 'Fitzgeraldia', 'Soala',\n",
       "       'Nephrostigma', 'Parartabotrys', 'Melodorum', 'Oxymitra',\n",
       "       'Lonchomera', 'Eburopetalum', 'Rhopalocarpus', 'Xylopicrum',\n",
       "       'Guanabanus', 'Rollinia', 'Rolliniopsis', 'Raimondia', 'Aberemoa',\n",
       "       'Cassia', 'Xylopicron', 'Orchidocarpum', 'Pityothamnus',\n",
       "       'Deeringothamnus', 'Enicosanthellum', 'Atrategia', 'Atrutegia',\n",
       "       'Beccariodendron', 'Richella', 'Uva', 'Stenanthera', 'Boutiquea',\n",
       "       'Mosenodendron', 'Stormia', 'Eschweilera', 'Ropalopetalum',\n",
       "       'Pachypodanthium', 'Alcmene', 'Duquetia', 'Geanthemum',\n",
       "       'Guatteriella', 'Guatteriopsis', 'Heteropetalum', 'Gualteria',\n",
       "       'Asteranthopsis', 'Habzelia', 'Tetrastemma', 'Thonnera',\n",
       "       'Mitrella', 'Pelticalyx', 'Camphorina', 'Schefferomitra',\n",
       "       'Atopostema', 'Clathrospermum', 'Enneastemon', 'Exellia',\n",
       "       'Gilbertiella', 'Magnolia', 'Myristica', 'Anomianthus',\n",
       "       'Cyathostemma', 'Dasoclema', 'Ellipeia', 'Rauwenhoffia',\n",
       "       'Tetrapetalum', 'Uvariella', 'Xylopiastrum', 'Marenteria', 'Narum',\n",
       "       'Pyragma', 'Ellipeiopsis', 'Balonga', 'Monocardia', 'Kinginda',\n",
       "       'Houdetota', 'Coelocline', 'Patonia', 'Pseudannona', 'Waria',\n",
       "       'Parabotrys', 'Diospyros', 'Mayna', 'Enantia', 'Kingstonia',\n",
       "       'Bergsmia', 'Amyris', 'Trigyneia', 'Hubera', 'Cleistopetalum',\n",
       "       'Enicosanthum', 'Griffithia', 'Griffithianthus', 'Marcuccia',\n",
       "       'Woodiella', 'Woodiellantha', 'Mezzettiopsis', 'Craibella',\n",
       "       'Petalolophus', 'Oreomitra', 'Papualthia', 'Hydnocarpus',\n",
       "       'Saccopetalum', 'Hyalostemma', 'Euodia', 'Macanea',\n",
       "       'Haplostichanthus', 'Monostichanthus', 'Sphaerothalamus',\n",
       "       'Tabraca', 'Reedrollinsia', 'Stenanona', 'Ancana', 'Ararocarpus',\n",
       "       'Fitzalania', 'Guamia', 'Oncodostigma', 'Polyaulax',\n",
       "       'Chieniodendron', 'Uraria', 'Alphonseopsis', 'Dielsina', 'Pagerea',\n",
       "       'Vvaria'], dtype=object)"
      ]
     },
     "execution_count": 41,
     "metadata": {},
     "output_type": "execute_result"
    }
   ],
   "source": [
    "# seems like Anona is legitimately missing\n",
    "wfo_noduplicates.loc[wfo_noduplicates.family.str.contains(\"Annonaceae\"), \"genus\"].unique()"
   ]
  },
  {
   "cell_type": "code",
   "execution_count": 50,
   "id": "994cfa37-dcc4-4f64-9644-89d58290b6c0",
   "metadata": {},
   "outputs": [
    {
     "data": {
      "text/plain": [
       "10722      Matteuccia\n",
       "57940      Matteuccia\n",
       "84276       Matthiola\n",
       "86499      Matricaria\n",
       "86501      Matteuccia\n",
       "88444      Matricaria\n",
       "89359       Matthiola\n",
       "89360       Matthiola\n",
       "93829      Matricaria\n",
       "94965         Matayba\n",
       "95564    Matthiolaria\n",
       "95606       Matthiola\n",
       "Name: genus, dtype: object"
      ]
     },
     "execution_count": 50,
     "metadata": {},
     "output_type": "execute_result"
    }
   ],
   "source": [
    "groot_tax.genus[groot_tax.genus.str.startswith(\"Mat\")]"
   ]
  },
  {
   "cell_type": "code",
   "execution_count": 52,
   "id": "8f3227da-5231-4480-a984-1fc4c212d18e",
   "metadata": {},
   "outputs": [],
   "source": [
    "# looks like GRoot has some spelling mistakes in the genus names!!! \n",
    "# YIKES\n",
    "\n",
    "groot_spelling_corrections = {\n",
    "\"Anona\" : \"Annona\",\n",
    "\"Braciaria\" : \"Brachiaria\",\n",
    "\"Cyanodon\" : \"Cynodon\",\n",
    "\"Helychrisum\" : \"Helichrysum \",\n",
    "\"Matthiolaria\" : \"Matthiola\", # https://list-ui-wfo-staging.rbge.info/taxon/wfo-0000368988-2018-07?page=1 - synonyms\n",
    "\"Rhipogonum\" : \"Ripogonum\",\n",
    "\"Rynchosia\" : \"Rhynchosia\"\n",
    "}"
   ]
  },
  {
   "cell_type": "code",
   "execution_count": 59,
   "id": "fbe8e787-6559-4882-8af4-79c084b6eeae",
   "metadata": {},
   "outputs": [],
   "source": [
    "spelling_corrected_groot_genera = groot_tax.genus.\\\n",
    "        apply(func= lambda g: groot_spelling_corrections.get(g) if g in groot_spelling_corrections.keys() else g)"
   ]
  },
  {
   "cell_type": "code",
   "execution_count": 63,
   "id": "6918ded6-1350-4937-aec1-17df58b92e04",
   "metadata": {},
   "outputs": [
    {
     "data": {
      "text/plain": [
       "16613    Annona\n",
       "44654    Annona\n",
       "Name: genus, dtype: object"
      ]
     },
     "execution_count": 63,
     "metadata": {},
     "output_type": "execute_result"
    }
   ],
   "source": [
    "spelling_corrected_groot_genera[spelling_corrected_groot_genera.str.startswith(\"Ann\")]"
   ]
  },
  {
   "cell_type": "code",
   "execution_count": 68,
   "id": "6bf41194-500f-42a2-9006-f99adedf68cc",
   "metadata": {},
   "outputs": [
    {
     "data": {
      "text/plain": [
       "{'AGROSTIS',\n",
       " 'ANTENNARIA',\n",
       " 'ANTHOXANTHUM',\n",
       " 'Brachypodium ',\n",
       " 'CAREX',\n",
       " 'GNAPHALIUM',\n",
       " 'Helichrysum ',\n",
       " 'LEONTODON',\n",
       " 'NARDUS',\n",
       " 'SIBBALDIA',\n",
       " 'dichanthelium',\n",
       " 'hesperostipa',\n",
       " 'mirabilis',\n",
       " 'oenothera',\n",
       " 'packera',\n",
       " 'penstemon',\n",
       " 'psoralidium',\n",
       " 'stenosiphon',\n",
       " 'tradescantia',\n",
       " 'verbesina',\n",
       " 'vulpia'}"
      ]
     },
     "execution_count": 68,
     "metadata": {},
     "output_type": "execute_result"
    }
   ],
   "source": [
    "set(spelling_corrected_groot_genera).difference(set(wfo_noduplicates.genus.str.strip().str.title()))"
   ]
  },
  {
   "cell_type": "code",
   "execution_count": 69,
   "id": "4d7c4c2a-587c-4d10-a3cb-0d01519895fc",
   "metadata": {},
   "outputs": [
    {
     "data": {
      "text/plain": [
       "{'Brachypodium ', 'Helichrysum '}"
      ]
     },
     "execution_count": 69,
     "metadata": {},
     "output_type": "execute_result"
    }
   ],
   "source": [
    "set(spelling_corrected_groot_genera.str.title()).difference(set(wfo_noduplicates.genus.str.strip().str.title()))"
   ]
  },
  {
   "cell_type": "code",
   "execution_count": 72,
   "id": "0c6ed18c-fe18-4186-ab1b-86a8b491edd5",
   "metadata": {},
   "outputs": [
    {
     "data": {
      "text/plain": [
       "set()"
      ]
     },
     "execution_count": 72,
     "metadata": {},
     "output_type": "execute_result"
    }
   ],
   "source": [
    "# finally!\n",
    "set(spelling_corrected_groot_genera.str.title().str.strip()).difference(set(wfo_noduplicates.genus.str.strip().str.title()))"
   ]
  },
  {
   "cell_type": "code",
   "execution_count": null,
   "id": "d29e5be9-49ab-4cd5-8f87-7b69e0907803",
   "metadata": {},
   "outputs": [],
   "source": []
  }
 ],
 "metadata": {
  "kernelspec": {
   "display_name": "Python 3 (ipykernel)",
   "language": "python",
   "name": "python3"
  },
  "language_info": {
   "codemirror_mode": {
    "name": "ipython",
    "version": 3
   },
   "file_extension": ".py",
   "mimetype": "text/x-python",
   "name": "python",
   "nbconvert_exporter": "python",
   "pygments_lexer": "ipython3",
   "version": "3.12.9"
  }
 },
 "nbformat": 4,
 "nbformat_minor": 5
}
